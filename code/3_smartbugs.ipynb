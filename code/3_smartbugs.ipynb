{
 "cells": [
  {
   "cell_type": "code",
   "execution_count": 1,
   "metadata": {},
   "outputs": [],
   "source": [
    "import pandas as pd\n",
    "import docker\n",
    "import os\n",
    "import re\n",
    "import json\n",
    "import matplotlib.pyplot as plt"
   ]
  },
  {
   "cell_type": "code",
   "execution_count": 2,
   "metadata": {
    "scrolled": false
   },
   "outputs": [
    {
     "data": {
      "text/plain": [
       "'\\nresult = pd.read_csv(\\'analysis_result.csv\\')\\nans = result[\\'ans\\']\\naddress = \"../data_sol/\"\\n#tools = [\\'mythril\\',\\'osiris\\',\\'slither\\']\\n#tools = [\\'oyente\\']\\n#temp = \"{mythril,osiris,slither}\"\\n#print(temp)\\ntools = [\\'oyente\\']\\nfor tool in tools:\\n    for i in range(227,len(ans)):\\n    #for i in range(5):\\n        text = os.popen(\"cd ~/smartbugs;python3 smartBugs.py --tool {} --file {}\".format(tool,address+ans[i])).read()\\n        print(str(i))\\n        print(text)\\n        if(\\'ERROR\\' in text):\\n            print(\\'error\\')'"
      ]
     },
     "execution_count": 2,
     "metadata": {},
     "output_type": "execute_result"
    }
   ],
   "source": []
  },
  {
   "cell_type": "code",
   "execution_count": 3,
   "metadata": {},
   "outputs": [],
   "source": [
    "#这个本质是根据一个特定文件夹的检测结果，然后存到json里边"
   ]
  },
  {
   "cell_type": "code",
   "execution_count": 4,
   "metadata": {},
   "outputs": [],
   "source": [
    "#将结果map到dasp\n",
    "def map_to(name,mapppp,head):\n",
    "    mapping = open('mapping.json').read()\n",
    "    mapp = json.loads(mapping)\n",
    "    dic = dict(zip(head,[0]*10))\n",
    "    for i in mapppp:\n",
    "        #print(mapp['osiris'][i.strip()])\n",
    "        if mapp[name][i.strip()] in dic.keys():\n",
    "            dic[mapp[name][i.strip()]] += mapppp[i]\n",
    "    return dic  \n",
    "#返回dasp的keys\n",
    "def get_head():\n",
    "    address = './mapping/smartbugs.wiki/Vulnerabilities-mapping.md'\n",
    "    f = open(address)\n",
    "    m = {}\n",
    "    asd = []\n",
    "    temp = f.read().splitlines()\n",
    "    head = temp[0].split('|')[3:-1]\n",
    "    return head\n",
    "#返回ans->json地址，code->合约名字\n",
    "def get_addr(tool,root):\n",
    "    ans = []\n",
    "    code = []\n",
    "    #root = './smartbugs/results' \n",
    "    #root = './smartbugs_result_contract' \n",
    "    directory = os.listdir(os.path.join(root,tool))\n",
    "    print(\"directory {}\".format(directory))\n",
    "    for addr in directory:\n",
    "        #if '20210501' in addr:#注意\n",
    "        temp = os.path.join(root,tool,addr)\n",
    "        #print(temp)\n",
    "        code_dir = os.listdir(temp)#获得到达result.json的地址 \n",
    "        #print(addr + ':'+str(code_dir))\n",
    "        for code_addr in code_dir:\n",
    "            result_addr = os.path.join(temp,code_addr,'result.json')#log.json\n",
    "            ans.append(result_addr)\n",
    "            code.append(code_addr)\n",
    "    return ans,code\n",
    "def barr(keys,values):\n",
    "    fig = plt.figure(figsize=(12,4))\n",
    "    plt.bar(keys, values)\n",
    "    plt.xticks(rotation=-25) \n",
    "    plt.show()\n",
    "def show_setno(addr):\n",
    "    f = open(addr)\n",
    "    t = f.read()\n",
    "    a = t.splitlines()\n",
    "    for i in range(len(a)):\n",
    "        print(str(i) + a[i])    "
   ]
  },
  {
   "cell_type": "code",
   "execution_count": 5,
   "metadata": {},
   "outputs": [],
   "source": []
  },
  {
   "cell_type": "code",
   "execution_count": 6,
   "metadata": {
    "scrolled": true
   },
   "outputs": [
    {
     "name": "stdout",
     "output_type": "stream",
     "text": [
      "directory ['.ipynb_checkpoints', '20211403_1453', '20211403_1450', '20211403_1446', '20211403_1452', '20211403_1444', '20211403_1449', '20211403_1447', '20211403_1448', '20211403_1424', '20211403_1431', '20211403_1422', '20211403_1425', '20211403_1423', '20211403_1433', '20211403_1445']\n",
      "\n",
      "\n",
      "\n",
      "\n",
      "\n",
      "\n",
      "\n",
      "\n",
      "\n",
      "\n",
      "\n",
      "\n",
      "\n",
      "\n",
      "\n",
      "\n",
      "\n",
      "\n",
      "\n",
      "\n",
      "total:66 analysis false:15 analysis success:51 result right:31 result error:20 \n"
     ]
    }
   ],
   "source": [
    "#mythril\n",
    "sol_name = []\n",
    "anaylsis_flag = []\n",
    "result = []\n",
    "success = 0\n",
    "cfalse = 0\n",
    "afalse = 0\n",
    "total = 0\n",
    "error = 0\n",
    "right = 0\n",
    "check = []\n",
    "mappp = {}\n",
    "#root = './smartbugs/results'\n",
    "tools = ['mythril']\n",
    "#tool = 'mythril'\n",
    "result_addrs,code = get_addr(\"mythril\",root)\n",
    "#print(len(result_addrs))\n",
    "for i in range(len(result_addrs)):\n",
    "    code_addr = code[i]\n",
    "    result_addr = result_addrs[i] \n",
    "    file = open(result_addr)\n",
    "    t = json.loads(file.read())\n",
    "    #print(result_addr)\n",
    "    if(code_addr not in check):\n",
    "        total += 1\n",
    "        sol_name.append(code_addr)\n",
    "        check.append(code_addr)\n",
    "        #print(type(t))\n",
    "        #print(result_addr)\n",
    "        if(t != None and t['analysis'] != None):\n",
    "            #print(type(t['analysis']['success'])\n",
    "            if(t['analysis']['success'] == True):\n",
    "                success += 1\n",
    "                anaylsis_flag.append(True)\n",
    "                result.append(t['analysis']['issues'])\n",
    "                if(len(t['analysis']['issues']) != 0):\n",
    "                    #print(\"-------------------------\")\n",
    "                    error += 1\n",
    "                    zxc =t['analysis']['issues']\n",
    "                    #print(zxc[0])\n",
    "                    #print(result_addr)\n",
    "                    for ttt in t['analysis']['issues']:\n",
    "                        asd = ttt['title']\n",
    "                        #print(asd+\"|\",end=' ')\n",
    "                        if asd in mappp:\n",
    "                            mappp[asd] += 1\n",
    "                        else:\n",
    "                            mappp[asd] = 0\n",
    "                    print()\n",
    "                else:\n",
    "                    right += 1\n",
    "                    #print(t)\n",
    "            else:\n",
    "                #print(\"-------------------------\")\n",
    "                #print('not issues')\n",
    "                afalse += 1\n",
    "                anaylsis_flag.append(False)\n",
    "                result.append(None)\n",
    "\n",
    "        else:\n",
    "            #print(\"-------------------------\")\n",
    "            #print(\"none\")\n",
    "           # print(t)\n",
    "            anaylsis_flag.append(False)\n",
    "            result.append(None)\n",
    "            cfalse += 1\n",
    "print(\"total:{} analysis false:{} analysis success:{} result right:{} result error:{} \".format(total,cfalse+afalse,success,right,error))\n",
    "#mappp\n",
    "mythril = pd.DataFrame({\n",
    "    'sol_name':sol_name,\n",
    "    'anaylsis_flag':anaylsis_flag,\n",
    "    'result':result\n",
    "})\n",
    "mythril.to_json(os.path.join(json_root,mythril_name))"
   ]
  },
  {
   "cell_type": "code",
   "execution_count": 7,
   "metadata": {},
   "outputs": [],
   "source": []
  },
  {
   "cell_type": "code",
   "execution_count": 13,
   "metadata": {},
   "outputs": [
    {
     "name": "stdout",
     "output_type": "stream",
     "text": [
      "directory ['20211403_1521', '20211403_1510', '20211403_1517', '.ipynb_checkpoints', '20211403_1520', '20211403_1530', '20211403_1514', '20211403_1537', '20211403_1519', '20211403_1543', '20211403_1531', '20211403_1536', '20211403_1518', '20211403_1532', '20211403_1538', '20211403_1535', '20211403_1512', '20211403_1515', '20211403_1540', '20211403_1541', '20211403_1513', '20211403_1511', '20211403_1525', '20211403_1509', '20211403_1545', '20211403_1542', '20211403_1516', '20211403_1544']\n",
      "total:66 analysis false:0 analysis success:66 result right:44 result error:22\n"
     ]
    }
   ],
   "source": [
    "#osiris\n",
    "sol_name = []\n",
    "result = []\n",
    "check2 = []\n",
    "right2 = []\n",
    "error2 = []\n",
    "false2 = []\n",
    "addr,code = get_addr('osiris',root)\n",
    "for i in range(len(addr)):\n",
    "    #print(addr[i])\n",
    "    file = open(addr[i])\n",
    "    code_addr = code[i]\n",
    "    t = json.loads(file.read())\n",
    "    if(code_addr not in check2):\n",
    "        sol_name.append(code_addr)\n",
    "        check2.append(code_addr)#len(check) == total\n",
    "        if(t != None):\n",
    "            if(t['analysis'] != None):\n",
    "                result.append(t['analysis'])\n",
    "                #print(t['analysis'])\n",
    "                for temp in t['analysis']:\n",
    "                    if(len(temp['errors']) > 0):\n",
    "                        error2.append(t)\n",
    "                        break\n",
    "                if(t not in error2):\n",
    "                    right2.append(t)\n",
    "            else:\n",
    "                result.append(None)\n",
    "                false2.append(t)\n",
    "        else:\n",
    "            result.append(None)\n",
    "            false2.append(t)\n",
    "print(\"total:{} analysis false:{} analysis success:{} result right:{} result error:{}\".format(len(check2),len(false2),len(error2)+len(right2),len(right2),len(error2)))\n",
    "mapp = {}\n",
    "for i in error2:\n",
    "    for temp in i['analysis']:\n",
    "        if len(temp['errors']) > 0:\n",
    "            for tt in temp['errors']:\n",
    "                asd = tt['message']\n",
    "                #print(asd)\n",
    "                if asd in mapp:\n",
    "                    mapp[asd] += 1\n",
    "                else:\n",
    "                    mapp[asd] = 0\n",
    "                    #print(mapp[asd])\n",
    "mapp\n",
    "osiris = pd.DataFrame({\n",
    "    'sol_name':sol_name,\n",
    "    'result':result\n",
    "})\n",
    "osiris.to_json(os.path.join(json_root,osiris_name))"
   ]
  },
  {
   "cell_type": "code",
   "execution_count": 31,
   "metadata": {
    "scrolled": true
   },
   "outputs": [
    {
     "name": "stdout",
     "output_type": "stream",
     "text": [
      "directory ['.ipynb_checkpoints', '20211403_1419', '20211403_1429', '20211403_1422', '20211403_1430', '20211403_1421', '20211403_1420', '20211403_1428']\n",
      "total:132 analysis false:0 analysis success:132 result right:64 result error:68\n",
      "66\n"
     ]
    }
   ],
   "source": [
    "#slither\n",
    "sol_name =[]\n",
    "result=[]\n",
    "check3 = []\n",
    "right3 = []\n",
    "error3 = []\n",
    "false3 = []\n",
    "mapppp = {}\n",
    "addr,code = get_addr('slither',root)\n",
    "for i in range(len(addr)):\n",
    "    #print(addr[i])\n",
    "    file = open(addr[i])\n",
    "    code_addr = code[i]\n",
    "    t = json.loads(file.read())\n",
    "    if(code_addr not in check3):\n",
    "        sol_name.append(code_addr)\n",
    "        check3.append(t)#len(check) == total\n",
    "        if(t != None and t['analysis'] != None):\n",
    "            result.append(t['analysis'])\n",
    "            for temp in t['analysis']:\n",
    "                asd = temp['check']\n",
    "                if temp['impact'] != 'Informational':\n",
    "                    #print(asd)\n",
    "                    if asd in mapppp:\n",
    "                        mapppp[asd] += 1\n",
    "                    else:\n",
    "                        mapppp[asd] = 0\n",
    "                    if t not in error3:\n",
    "                        error3.append(t)\n",
    "            if t not in error3:\n",
    "                right3.append(t)\n",
    "        else:\n",
    "            result.append(None)\n",
    "            false3.append(t)\n",
    "print(\"total:{} analysis false:{} analysis success:{} result right:{} result error:{}\".format(len(check3),len(false3),len(error3)+len(right3),len(right3),len(error3)))\n",
    "#mapppp\n",
    "slither = pd.DataFrame({\n",
    "    'sol_name':sol_name,\n",
    "    'result':result    \n",
    "}).drop_duplicates('sol_name')\n",
    "print(len(slither))\n",
    "slither.to_json(os.path.join(json_root,slither_name))"
   ]
  },
  {
   "cell_type": "code",
   "execution_count": 11,
   "metadata": {},
   "outputs": [],
   "source": [
    "#temp = map_to('slither',mapppp,head)\n",
    "#barr(temp.keys(),temp.values())\n",
    "#temp\n"
   ]
  },
  {
   "cell_type": "code",
   "execution_count": 26,
   "metadata": {},
   "outputs": [
    {
     "name": "stdout",
     "output_type": "stream",
     "text": [
      "directory ['20211403_1456', '20211403_1505', '20211403_1457', '20211403_1453', '20211403_1504', '20211403_1501', '20211403_1458', '20211403_1508', '20211403_1455', '20211403_1500', '20211403_1507', '20211403_1503', '20211403_1509', '20211403_1502', '20211403_1506', '20211403_1454']\n",
      "total:66 analysis false:20 analysis success:46 result right:0 result error:46\n"
     ]
    }
   ],
   "source": [
    "#oyente\n",
    "sol_name =[]\n",
    "result=[]\n",
    "check3 = []\n",
    "right3 = []\n",
    "error3 = []\n",
    "false3 = []\n",
    "mapppp = {}\n",
    "a = 5\n",
    "addr,code = get_addr('oyente',root)\n",
    "for i in range(len(addr)):\n",
    "    #print(addr[i])\n",
    "    file = open(addr[i])\n",
    "    code_addr = code[i]\n",
    "    t = json.loads(file.read())\n",
    "    if(code_addr not in check3):\n",
    "        sol_name.append(code_addr)\n",
    "        check3.append(t)#len(check) == total\n",
    "        if len(t['analysis']) != 0:\n",
    "            ans_temp = []\n",
    "            for temp in t['analysis']:\n",
    "                asd = temp['errors']\n",
    "                name = temp['name']\n",
    "                for qw in asd:\n",
    "                    ans_temp.append({\n",
    "                        'lineno':qw['line'],\n",
    "                        'title':qw['message'],\n",
    "                        'contract':name\n",
    "                    })\n",
    "                if t not in error3:\n",
    "                        error3.append(t)\n",
    "            if t not in error3:\n",
    "                right3.append(t)\n",
    "            result.append(ans_temp)\n",
    "        else:\n",
    "            result.append([])\n",
    "            false3.append(t)\n",
    "print(\"total:{} analysis false:{} analysis success:{} result right:{} result error:{}\".format(len(check3),len(false3),len(error3)+len(right3),len(right3),len(error3)))\n",
    "#mapppp\n",
    "oyente = pd.DataFrame({\n",
    "    'sol_name':sol_name,\n",
    "    'result':result    \n",
    "})\n",
    "oyente = oyente.drop_duplicates(['sol_name'])\n",
    "oyente[oyente['sol_name']!='simple_dao']\n",
    "oyente.to_json(os.path.join(json_root,oyente_name))\n",
    "#oyente.to_json(oyente_name)"
   ]
  },
  {
   "cell_type": "code",
   "execution_count": null,
   "metadata": {
    "scrolled": true
   },
   "outputs": [],
   "source": []
  },
  {
   "cell_type": "code",
   "execution_count": null,
   "metadata": {},
   "outputs": [],
   "source": []
  },
  {
   "cell_type": "code",
   "execution_count": null,
   "metadata": {
    "scrolled": true
   },
   "outputs": [],
   "source": [
    "#mapping 获得mapping.json\n",
    "address = '.Vulnerabilities-mapping.md'\n",
    "f = open(address)\n",
    "m = {}\n",
    "asd = []\n",
    "temp = f.read().splitlines()\n",
    "head = temp[0].split('|')[3:-1]\n",
    "target = ['mythril','oyente','slither','osiris']\n",
    "for i in target:\n",
    "    t = i.strip()\n",
    "    m[t] = {}\n",
    "for i in temp:\n",
    "    if i.split()[0] in target:\n",
    "        asd.append(i)\n",
    "for i in head:\n",
    "    m[i] = []\n",
    "for i in asd:\n",
    "    a = i.split('TRUE')[0].count('|') - 2\n",
    "    name = i.split(\"|\")[0].strip()\n",
    "    vul = i.split(\"|\")[1].strip()\n",
    "    m[name][vul] = head[a]\n",
    "    #m[head[a]].append(name)\n",
    "asdd = json.dumps(m)\n",
    "qwe = open('mapping.json','w')\n",
    "qwe.write(asdd)\n",
    "qwe.close()"
   ]
  },
  {
   "cell_type": "markdown",
   "metadata": {},
   "source": [
    "# 没有mapping的版本"
   ]
  },
  {
   "cell_type": "code",
   "execution_count": null,
   "metadata": {},
   "outputs": [],
   "source": []
  }
 ],
 "metadata": {
  "kernelspec": {
   "display_name": "Python 3",
   "language": "python",
   "name": "python3"
  },
  "language_info": {
   "codemirror_mode": {
    "name": "ipython",
    "version": 3
   },
   "file_extension": ".py",
   "mimetype": "text/x-python",
   "name": "python",
   "nbconvert_exporter": "python",
   "pygments_lexer": "ipython3",
   "version": "3.6.10"
  }
 },
 "nbformat": 4,
 "nbformat_minor": 2
}
